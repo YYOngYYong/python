{
 "cells": [
  {
   "cell_type": "markdown",
   "metadata": {},
   "source": [
    "# 비즈니스 프로그래밍 2주차"
   ]
  },
  {
   "cell_type": "markdown",
   "metadata": {},
   "source": [
    "## 문제 1 - 0.5점\n",
    "\n",
    "1-1000까지의 숫자 중 숫자 7로 나누어 떨어지는 숫자들을 구하시오 (comprehension을 사용하면 0.5점, 아닐 시 0.2점)"
   ]
  },
  {
   "cell_type": "code",
   "execution_count": null,
   "metadata": {},
   "outputs": [],
   "source": []
  },
  {
   "cell_type": "markdown",
   "metadata": {},
   "source": [
    "## 문제 2 - 0.5점\n",
    "\n",
    "1-1000까지의 숫자 중 숫자 3이 들어있는 숫자를 구하고 그 갯수를 세시오 (comprehension을 이용할 시 0.5점, 아닐 시 0.2점)\n",
    "\n",
    "**hint len()을 이용하여 리스트 내 원소의 갯수를 구할 수 있다.**"
   ]
  },
  {
   "cell_type": "code",
   "execution_count": null,
   "metadata": {},
   "outputs": [],
   "source": []
  },
  {
   "cell_type": "markdown",
   "metadata": {},
   "source": [
    "## 문제 3 - 0.5점\n",
    "\n",
    "1-1000의 숫자들 중 2~9로 나눌 수 있는 숫자들을 모두 구하시오 (comprehension을 이용할 시 0.5점, 아닐 시 0.3점)\n",
    "\n",
    "**hint 이중 반복문을 사용하던가, list를 전부 합치던가!, 아! 중복 문제도 해결할 수 있어야 한다**"
   ]
  },
  {
   "cell_type": "code",
   "execution_count": null,
   "metadata": {},
   "outputs": [],
   "source": []
  },
  {
   "cell_type": "markdown",
   "metadata": {},
   "source": [
    "## 문제 4 - 0.5점\n",
    "아주아파트 108동은 101호부터 404호까지 총 16집이 있습니다. 이 집들을 돌면서 민방위 통지서를 전달하려고 합니다.\n",
    "\n",
    "그런데, 16집 중 4집(101호, 203호, 301호, 404호)에는 민방위 대상자가 없었습니다.\n",
    "\n",
    "이 집들을 제외하고 민방위 통지서를 전달하는 프로그램을 구현하세요(print 함수로 전달을 표현해주세요)\n",
    "\n",
    "HINT: 이중 loop문과 조건문을 사용하면 풀 수 있어요!\n",
    "\n",
    "예상 결과\n",
    "\n",
    "> \"101 호에 민방위 통지서를 전달했습니다\"<br>\n",
    "\"102 호에 민방위 통지서를 전달했습니다\"<br>\n",
    "\"103 호는 민방위 대상자가 없습니다.\"<br>\n",
    "\"104 호에 민방위 통지서를 전달했습니다\""
   ]
  },
  {
   "cell_type": "code",
   "execution_count": 2,
   "metadata": {},
   "outputs": [],
   "source": [
    "ajou_apart = [[101, 102, 103, 104],[201, 202, 203, 204],[301, 302, 303, 304], [401, 402, 403, 404]]\n",
    "exception = [101, 203, 301, 404] ## 민방위 대상자를 전달하지 않아야 하는 집"
   ]
  },
  {
   "cell_type": "code",
   "execution_count": null,
   "metadata": {},
   "outputs": [],
   "source": []
  },
  {
   "cell_type": "markdown",
   "metadata": {},
   "source": [
    "## 문제5 - 2점\n",
    "\n",
    "어떤 자연수 n이 있을 때, d(n)을 n의 각 자릿수 숫자들과 n 자신을 더한 숫자라고 정의하자.\n",
    "\n",
    "예를 들어\n",
    "\n",
    "```\n",
    "d(91) = 9 + 1 + 91 = 101\n",
    "```\n",
    "\n",
    "이 때, n을 d(n)의 제네레이터(generator)라고 한다. 위의 예에서 91은 101의 제네레이터이다.\n",
    "\n",
    "어떤 숫자들은 하나 이상의 제네레이터를 가지고 있는데, 101의 제네레이터는 91 뿐 아니라 100도 있다. 그런데 반대로, 제네레이터가 없는 숫자들도 있으며, 이런 숫자를 인도의 수학자 Kaprekar가 셀프 넘버(self-number)라 이름 붙였다. 예를 들어 1,3,5,7,9,20,31 은 셀프 넘버 들이다.\n",
    "\n",
    "1 이상이고 5000 보다 작은 모든 셀프 넘버들의 합을 구하라.\n",
    "\n",
    "라는 문제의 comprehension을 이용한 풀이는 다음과 같다\n",
    "\n",
    "아래 코드를 comprehension 없이 for문을 이용하여 구현하고, 1~5000 대신 사용자 입력을 받아서 입력받은 범위 내의 self number를 구할 수 있도록 프로그램을 작성하시오(이 때, 잘못된 입력을 받으면 다시 받을 수 있도록 한다)"
   ]
  },
  {
   "cell_type": "code",
   "execution_count": 4,
   "metadata": {},
   "outputs": [
    {
     "data": {
      "text/plain": [
       "1227365"
      ]
     },
     "execution_count": 4,
     "metadata": {},
     "output_type": "execute_result"
    }
   ],
   "source": [
    "sum(set(range(1, 5000)) - {x + sum([int(a) for a in str(x)]) for x in range(1, 5000)})"
   ]
  },
  {
   "cell_type": "code",
   "execution_count": 30,
   "metadata": {
    "scrolled": true
   },
   "outputs": [
    {
     "data": {
      "text/plain": [
       "1227365"
      ]
     },
     "execution_count": 30,
     "metadata": {},
     "output_type": "execute_result"
    }
   ],
   "source": [
    "li = []\n",
    "for i in range(1,5001):\n",
    "    li.append(i + sum([int(j) for j in str(i)]))\n",
    "sum(set(range(1, 5000)) - set(li))"
   ]
  },
  {
   "cell_type": "code",
   "execution_count": null,
   "metadata": {},
   "outputs": [],
   "source": []
  }
 ],
 "metadata": {
  "kernelspec": {
   "display_name": "Python 3",
   "language": "python",
   "name": "python3"
  },
  "language_info": {
   "codemirror_mode": {
    "name": "ipython",
    "version": 3
   },
   "file_extension": ".py",
   "mimetype": "text/x-python",
   "name": "python",
   "nbconvert_exporter": "python",
   "pygments_lexer": "ipython3",
   "version": "3.6.5"
  }
 },
 "nbformat": 4,
 "nbformat_minor": 2
}
